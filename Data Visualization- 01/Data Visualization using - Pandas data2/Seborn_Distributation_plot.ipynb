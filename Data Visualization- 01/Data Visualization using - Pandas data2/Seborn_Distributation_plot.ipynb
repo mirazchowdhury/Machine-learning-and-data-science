{
 "cells": [
  {
   "cell_type": "markdown",
   "id": "a09d6218",
   "metadata": {},
   "source": [
    "# [seaborn: statistical data visualization](http://seaborn.pydata.org/index.html)\n",
    "## [Distribution Plots](http://seaborn.pydata.org/tutorial/distributions.html#distribution-tutorial): <font style=\"font-size:16px;color:green;\">Visualizing the distribution of a dataset</font>\n",
    "\n",
    "Hi Guys,<br>\n",
    "Welcome back to the Seaborn. Let's start with Seaborn's Distribution plots. When dealing with a set of data, often the first thing we want to do is get a sense for how the variables are distributed. <br>\n",
    "In this lecture, we will learn some useful plotting option that allow us to visualize the distribution of a data set.<br> These **distribution plots includes**: <code>distplot(), jointplot(), pairplot(), kdeplot()</code> etc.\n",
    "\n",
    "&#9989; Seaborn comes with [built-in data sets](https://github.com/mwaskom/seaborn-data) that can be loaded using its function <code>load_dataset('data_set_name')</code>. We will use various built-in data sets for learning purpose in the seaborn section.  "
   ]
  }
 ],
 "metadata": {
  "kernelspec": {
   "display_name": "Python 3 (ipykernel)",
   "language": "python",
   "name": "python3"
  },
  "language_info": {
   "codemirror_mode": {
    "name": "ipython",
    "version": 3
   },
   "file_extension": ".py",
   "mimetype": "text/x-python",
   "name": "python",
   "nbconvert_exporter": "python",
   "pygments_lexer": "ipython3",
   "version": "3.11.5"
  }
 },
 "nbformat": 4,
 "nbformat_minor": 5
}
