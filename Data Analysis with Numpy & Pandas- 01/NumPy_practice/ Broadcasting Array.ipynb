{
 "cells": [
  {
   "cell_type": "code",
   "execution_count": 1,
   "id": "9f6eef04",
   "metadata": {},
   "outputs": [],
   "source": [
    "import numpy as np"
   ]
  },
  {
   "cell_type": "code",
   "execution_count": 2,
   "id": "d81d40bc",
   "metadata": {},
   "outputs": [],
   "source": [
    "array_1d = np.arange(1,20)"
   ]
  },
  {
   "cell_type": "code",
   "execution_count": 3,
   "id": "4a1bbef8",
   "metadata": {},
   "outputs": [
    {
     "data": {
      "text/plain": [
       "array([ 1,  2,  3,  4,  5,  6,  7,  8,  9, 10, 11, 12, 13, 14, 15, 16, 17,\n",
       "       18, 19])"
      ]
     },
     "execution_count": 3,
     "metadata": {},
     "output_type": "execute_result"
    }
   ],
   "source": [
    "array_1d"
   ]
  },
  {
   "cell_type": "code",
   "execution_count": 4,
   "id": "6be3447b",
   "metadata": {},
   "outputs": [],
   "source": [
    "array_1d[0:5]=100"
   ]
  },
  {
   "cell_type": "code",
   "execution_count": 5,
   "id": "e3efe189",
   "metadata": {},
   "outputs": [
    {
     "data": {
      "text/plain": [
       "array([100, 100, 100, 100, 100,   6,   7,   8,   9,  10,  11,  12,  13,\n",
       "        14,  15,  16,  17,  18,  19])"
      ]
     },
     "execution_count": 5,
     "metadata": {},
     "output_type": "execute_result"
    }
   ],
   "source": [
    "array_1d"
   ]
  },
  {
   "cell_type": "code",
   "execution_count": 6,
   "id": "4bcfbda6",
   "metadata": {},
   "outputs": [],
   "source": [
    "array_2d = np.ones((4,4))"
   ]
  },
  {
   "cell_type": "code",
   "execution_count": 7,
   "id": "4c56addd",
   "metadata": {},
   "outputs": [
    {
     "data": {
      "text/plain": [
       "array([[1., 1., 1., 1.],\n",
       "       [1., 1., 1., 1.],\n",
       "       [1., 1., 1., 1.],\n",
       "       [1., 1., 1., 1.]])"
      ]
     },
     "execution_count": 7,
     "metadata": {},
     "output_type": "execute_result"
    }
   ],
   "source": [
    "array_2d"
   ]
  },
  {
   "cell_type": "code",
   "execution_count": 8,
   "id": "4edbf58e",
   "metadata": {},
   "outputs": [],
   "source": [
    "array_2d[0]=300"
   ]
  },
  {
   "cell_type": "code",
   "execution_count": 9,
   "id": "24e60e32",
   "metadata": {},
   "outputs": [
    {
     "data": {
      "text/plain": [
       "array([[300., 300., 300., 300.],\n",
       "       [  1.,   1.,   1.,   1.],\n",
       "       [  1.,   1.,   1.,   1.],\n",
       "       [  1.,   1.,   1.,   1.]])"
      ]
     },
     "execution_count": 9,
     "metadata": {},
     "output_type": "execute_result"
    }
   ],
   "source": [
    "array_2d"
   ]
  },
  {
   "cell_type": "code",
   "execution_count": 10,
   "id": "b968a765",
   "metadata": {},
   "outputs": [
    {
     "data": {
      "text/plain": [
       "array([[600., 600., 600., 600.],\n",
       "       [301., 301., 301., 301.],\n",
       "       [301., 301., 301., 301.],\n",
       "       [301., 301., 301., 301.]])"
      ]
     },
     "execution_count": 10,
     "metadata": {},
     "output_type": "execute_result"
    }
   ],
   "source": [
    "array_2d+300"
   ]
  },
  {
   "cell_type": "code",
   "execution_count": 12,
   "id": "579a9eee",
   "metadata": {},
   "outputs": [],
   "source": [
    "a =  np.array([[0.0,1.0,2.0],[10.0,20.0,30.0],[100.0,200.0,300.0]])\n",
    "b = np.array([1000.0,2000.0,3000.0])"
   ]
  },
  {
   "cell_type": "code",
   "execution_count": 14,
   "id": "9cd57098",
   "metadata": {},
   "outputs": [
    {
     "data": {
      "text/plain": [
       "array([[  0.,   1.,   2.],\n",
       "       [ 10.,  20.,  30.],\n",
       "       [100., 200., 300.]])"
      ]
     },
     "execution_count": 14,
     "metadata": {},
     "output_type": "execute_result"
    }
   ],
   "source": [
    "a"
   ]
  },
  {
   "cell_type": "code",
   "execution_count": 15,
   "id": "35f39c26",
   "metadata": {},
   "outputs": [
    {
     "data": {
      "text/plain": [
       "array([1000., 2000., 3000.])"
      ]
     },
     "execution_count": 15,
     "metadata": {},
     "output_type": "execute_result"
    }
   ],
   "source": [
    "b"
   ]
  },
  {
   "cell_type": "code",
   "execution_count": 16,
   "id": "d4de7570",
   "metadata": {},
   "outputs": [
    {
     "data": {
      "text/plain": [
       "array([[1000., 2001., 3002.],\n",
       "       [1010., 2020., 3030.],\n",
       "       [1100., 2200., 3300.]])"
      ]
     },
     "execution_count": 16,
     "metadata": {},
     "output_type": "execute_result"
    }
   ],
   "source": [
    "a+b"
   ]
  },
  {
   "cell_type": "code",
   "execution_count": 20,
   "id": "919b52fd",
   "metadata": {},
   "outputs": [
    {
     "name": "stdout",
     "output_type": "stream",
     "text": [
      "First Array : \n",
      "[[  0.   1.   2.]\n",
      " [ 10.  20.  30.]\n",
      " [100. 200. 300.]]\n",
      "\n",
      "\n"
     ]
    }
   ],
   "source": [
    "print('First Array : ')\n",
    "print(a)\n",
    "print('\\n')"
   ]
  },
  {
   "cell_type": "code",
   "execution_count": 19,
   "id": "dbf1b45e",
   "metadata": {},
   "outputs": [
    {
     "name": "stdout",
     "output_type": "stream",
     "text": [
      "Second Array : \n",
      "[1000. 2000. 3000.]\n",
      "\n",
      "\n"
     ]
    }
   ],
   "source": [
    "print('Second Array : ')\n",
    "print(b)\n",
    "print('\\n')"
   ]
  },
  {
   "cell_type": "code",
   "execution_count": 21,
   "id": "e2cff475",
   "metadata": {},
   "outputs": [
    {
     "name": "stdout",
     "output_type": "stream",
     "text": [
      "First + Second: \n",
      "[[1000. 2001. 3002.]\n",
      " [1010. 2020. 3030.]\n",
      " [1100. 2200. 3300.]]\n"
     ]
    }
   ],
   "source": [
    "print('First + Second: ')\n",
    "print(a+b)"
   ]
  },
  {
   "cell_type": "code",
   "execution_count": null,
   "id": "e165f721",
   "metadata": {},
   "outputs": [],
   "source": []
  },
  {
   "cell_type": "code",
   "execution_count": null,
   "id": "c64a95fc",
   "metadata": {},
   "outputs": [],
   "source": []
  },
  {
   "cell_type": "code",
   "execution_count": null,
   "id": "7e342f6c",
   "metadata": {},
   "outputs": [],
   "source": []
  },
  {
   "cell_type": "code",
   "execution_count": null,
   "id": "6ae8123c",
   "metadata": {},
   "outputs": [],
   "source": []
  },
  {
   "cell_type": "code",
   "execution_count": null,
   "id": "30e35b41",
   "metadata": {},
   "outputs": [],
   "source": []
  },
  {
   "cell_type": "code",
   "execution_count": null,
   "id": "e4550788",
   "metadata": {},
   "outputs": [],
   "source": []
  },
  {
   "cell_type": "code",
   "execution_count": null,
   "id": "a7074238",
   "metadata": {},
   "outputs": [],
   "source": []
  }
 ],
 "metadata": {
  "kernelspec": {
   "display_name": "Python 3 (ipykernel)",
   "language": "python",
   "name": "python3"
  },
  "language_info": {
   "codemirror_mode": {
    "name": "ipython",
    "version": 3
   },
   "file_extension": ".py",
   "mimetype": "text/x-python",
   "name": "python",
   "nbconvert_exporter": "python",
   "pygments_lexer": "ipython3",
   "version": "3.11.5"
  }
 },
 "nbformat": 4,
 "nbformat_minor": 5
}
