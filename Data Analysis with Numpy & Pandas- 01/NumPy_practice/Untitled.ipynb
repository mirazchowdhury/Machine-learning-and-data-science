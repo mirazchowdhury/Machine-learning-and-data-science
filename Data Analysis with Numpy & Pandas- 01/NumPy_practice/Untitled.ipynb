{
 "cells": [
  {
   "cell_type": "code",
   "execution_count": 1,
   "id": "64002da2",
   "metadata": {},
   "outputs": [],
   "source": [
    "import numpy as np"
   ]
  },
  {
   "cell_type": "code",
   "execution_count": 2,
   "id": "c5ea95fe",
   "metadata": {},
   "outputs": [
    {
     "data": {
      "text/plain": [
       "'1.24.3'"
      ]
     },
     "execution_count": 2,
     "metadata": {},
     "output_type": "execute_result"
    }
   ],
   "source": [
    "np.__version__"
   ]
  },
  {
   "cell_type": "code",
   "execution_count": 4,
   "id": "82a8f712",
   "metadata": {},
   "outputs": [
    {
     "name": "stdout",
     "output_type": "stream",
     "text": [
      "[2 3 4]\n"
     ]
    }
   ],
   "source": [
    "arr = np.array([0, 1, 2])\n",
    "print(arr + 2)"
   ]
  },
  {
   "cell_type": "code",
   "execution_count": 6,
   "id": "b2212faf",
   "metadata": {},
   "outputs": [
    {
     "name": "stdout",
     "output_type": "stream",
     "text": [
      "<class 'numpy.ndarray'>\n"
     ]
    }
   ],
   "source": [
    "my_list = np.array([-1,0,1])\n",
    "print(type(my_list))"
   ]
  },
  {
   "cell_type": "code",
   "execution_count": 7,
   "id": "1890908c",
   "metadata": {},
   "outputs": [
    {
     "data": {
      "text/plain": [
       "[0, 1, 2, 0, 1, 2]"
      ]
     },
     "execution_count": 7,
     "metadata": {},
     "output_type": "execute_result"
    }
   ],
   "source": [
    "list = [0,1,2]\n",
    "list*2"
   ]
  },
  {
   "cell_type": "code",
   "execution_count": 8,
   "id": "fd439dc4",
   "metadata": {},
   "outputs": [
    {
     "data": {
      "text/plain": [
       "array([0, 2, 4])"
      ]
     },
     "execution_count": 8,
     "metadata": {},
     "output_type": "execute_result"
    }
   ],
   "source": [
    "arr = np.array([0,1,2])\n",
    "arr*2"
   ]
  },
  {
   "cell_type": "markdown",
   "id": "6df2e274",
   "metadata": {},
   "source": [
    "# Simillarities between numPy array and lists"
   ]
  },
  {
   "cell_type": "code",
   "execution_count": null,
   "id": "0c05ab60",
   "metadata": {},
   "outputs": [],
   "source": [
    "#Storing Data\n",
    "#Can be indexed\n",
    "#Mutable\n",
    "#Slicing Options"
   ]
  },
  {
   "cell_type": "markdown",
   "id": "7c876784",
   "metadata": {},
   "source": [
    "# Differences"
   ]
  },
  {
   "cell_type": "code",
   "execution_count": null,
   "id": "0f14d92d",
   "metadata": {},
   "outputs": [],
   "source": [
    "#1.List::Different datatypes & Array: Similar datatypes\n",
    "\n",
    "#2.list = [0,1,2]\n",
    "#list*2\n",
    "#output:[0, 1, 2, 0, 1, 2]\n",
    "\n",
    "\n",
    "#arr = np.array([0,1,2])\n",
    "#arr*2\n",
    "#output:array([0, 2, 4])"
   ]
  },
  {
   "cell_type": "code",
   "execution_count": 4,
   "id": "e43d80e6",
   "metadata": {},
   "outputs": [
    {
     "data": {
      "text/plain": [
       "array(['3', '5', '4', 'a'], dtype='<U11')"
      ]
     },
     "execution_count": 4,
     "metadata": {},
     "output_type": "execute_result"
    }
   ],
   "source": [
    "myarr = np.array([3,5,4,\"a\"])\n",
    "myarr"
   ]
  },
  {
   "cell_type": "code",
   "execution_count": 6,
   "id": "7a771bd2",
   "metadata": {},
   "outputs": [
    {
     "data": {
      "text/plain": [
       "[3, 4, 5, 'a']"
      ]
     },
     "execution_count": 6,
     "metadata": {},
     "output_type": "execute_result"
    }
   ],
   "source": [
    "mylist = [3,4,5,\"a\"]\n",
    "mylist"
   ]
  },
  {
   "cell_type": "code",
   "execution_count": 7,
   "id": "e031c095",
   "metadata": {},
   "outputs": [
    {
     "data": {
      "text/plain": [
       "array([[0., 0., 0.],\n",
       "       [0., 0., 0.]])"
      ]
     },
     "execution_count": 7,
     "metadata": {},
     "output_type": "execute_result"
    }
   ],
   "source": [
    "np.zeros((2,3))"
   ]
  },
  {
   "cell_type": "code",
   "execution_count": 3,
   "id": "a42cfcd1",
   "metadata": {},
   "outputs": [
    {
     "data": {
      "text/plain": [
       "array([[0., 0., 0., 0.],\n",
       "       [0., 0., 0., 0.],\n",
       "       [0., 0., 0., 0.]])"
      ]
     },
     "execution_count": 3,
     "metadata": {},
     "output_type": "execute_result"
    }
   ],
   "source": [
    "np.zeros((3,4))"
   ]
  },
  {
   "cell_type": "code",
   "execution_count": 4,
   "id": "7b47a9b4",
   "metadata": {},
   "outputs": [
    {
     "data": {
      "text/plain": [
       "array([0., 0., 0., 0., 0., 0., 0., 0., 0., 0.])"
      ]
     },
     "execution_count": 4,
     "metadata": {},
     "output_type": "execute_result"
    }
   ],
   "source": [
    "np.zeros((10))"
   ]
  },
  {
   "cell_type": "code",
   "execution_count": 5,
   "id": "c5558d1b",
   "metadata": {},
   "outputs": [
    {
     "data": {
      "text/plain": [
       "array([1., 1., 1., 1., 1., 1., 1., 1., 1., 1., 1.])"
      ]
     },
     "execution_count": 5,
     "metadata": {},
     "output_type": "execute_result"
    }
   ],
   "source": [
    "np.ones((11))"
   ]
  },
  {
   "cell_type": "code",
   "execution_count": 11,
   "id": "c9adef9f",
   "metadata": {},
   "outputs": [
    {
     "data": {
      "text/plain": [
       "array([[1, 1],\n",
       "       [1, 1],\n",
       "       [1, 1]])"
      ]
     },
     "execution_count": 11,
     "metadata": {},
     "output_type": "execute_result"
    }
   ],
   "source": [
    "np.ones((3,2),dtype=\"int32\")"
   ]
  },
  {
   "cell_type": "code",
   "execution_count": 12,
   "id": "bb776333",
   "metadata": {},
   "outputs": [
    {
     "data": {
      "text/plain": [
       "array([[99, 99, 99],\n",
       "       [99, 99, 99],\n",
       "       [99, 99, 99]])"
      ]
     },
     "execution_count": 12,
     "metadata": {},
     "output_type": "execute_result"
    }
   ],
   "source": [
    "np.full((3,3),99)"
   ]
  },
  {
   "cell_type": "code",
   "execution_count": 18,
   "id": "d22026f1",
   "metadata": {},
   "outputs": [
    {
     "data": {
      "text/plain": [
       "array([[0.5741071 , 0.54146376, 0.55934603, 0.12024795],\n",
       "       [0.42531385, 0.26843689, 0.16244064, 0.51376252],\n",
       "       [0.69043804, 0.743409  , 0.77668196, 0.83201471],\n",
       "       [0.81336127, 0.0582146 , 0.23751577, 0.69786041],\n",
       "       [0.79570154, 0.56381619, 0.30446116, 0.5265016 ],\n",
       "       [0.05171443, 0.53884113, 0.15727852, 0.29565445],\n",
       "       [0.07703414, 0.87966201, 0.32042238, 0.01287106],\n",
       "       [0.52945588, 0.70382412, 0.01317914, 0.19825209]])"
      ]
     },
     "execution_count": 18,
     "metadata": {},
     "output_type": "execute_result"
    }
   ],
   "source": [
    "np.random.rand(8,4) #0--1"
   ]
  },
  {
   "cell_type": "code",
   "execution_count": 15,
   "id": "b15d5e18",
   "metadata": {},
   "outputs": [
    {
     "data": {
      "text/plain": [
       "array([97, 96, 35, 71, 64, 32, 81, 48, 10, 66, 75, 23,  7, 84, 78, 20, 89,\n",
       "       32])"
      ]
     },
     "execution_count": 15,
     "metadata": {},
     "output_type": "execute_result"
    }
   ],
   "source": [
    "np.random.randint(1,100,18) #int_value"
   ]
  },
  {
   "cell_type": "code",
   "execution_count": 16,
   "id": "854f71a6",
   "metadata": {},
   "outputs": [
    {
     "data": {
      "text/plain": [
       "array([[1, 6, 1],\n",
       "       [1, 1, 0],\n",
       "       [0, 1, 1]])"
      ]
     },
     "execution_count": 16,
     "metadata": {},
     "output_type": "execute_result"
    }
   ],
   "source": [
    "np.random.randint(-4,8,size=(3,3))"
   ]
  },
  {
   "cell_type": "code",
   "execution_count": 19,
   "id": "2c075289",
   "metadata": {},
   "outputs": [
    {
     "data": {
      "text/plain": [
       "array([-2.69678908, -0.24388795,  0.80746961,  0.84629619,  0.09587668,\n",
       "        0.29390393, -1.16955812, -1.04701001,  0.26661813,  0.75979221,\n",
       "       -1.34066494,  0.1337941 ,  0.10643973, -0.89561419, -0.06752385,\n",
       "       -0.2627427 ,  0.18393261, -1.32361569, -0.7645304 ,  0.80278771])"
      ]
     },
     "execution_count": 19,
     "metadata": {},
     "output_type": "execute_result"
    }
   ],
   "source": [
    "np.random.randn(20)"
   ]
  },
  {
   "cell_type": "code",
   "execution_count": 2,
   "id": "a101a195",
   "metadata": {},
   "outputs": [
    {
     "data": {
      "text/plain": [
       "array([[1., 0., 0., 0., 0.],\n",
       "       [0., 1., 0., 0., 0.],\n",
       "       [0., 0., 1., 0., 0.],\n",
       "       [0., 0., 0., 1., 0.],\n",
       "       [0., 0., 0., 0., 1.]])"
      ]
     },
     "execution_count": 2,
     "metadata": {},
     "output_type": "execute_result"
    }
   ],
   "source": [
    "np.identity(5)"
   ]
  },
  {
   "cell_type": "code",
   "execution_count": 3,
   "id": "b29b4335",
   "metadata": {},
   "outputs": [
    {
     "data": {
      "text/plain": [
       "array([[1., 0., 0., 0., 0.],\n",
       "       [0., 1., 0., 0., 0.],\n",
       "       [0., 0., 1., 0., 0.],\n",
       "       [0., 0., 0., 1., 0.],\n",
       "       [0., 0., 0., 0., 1.]])"
      ]
     },
     "execution_count": 3,
     "metadata": {},
     "output_type": "execute_result"
    }
   ],
   "source": [
    "np.eye(5)"
   ]
  }
 ],
 "metadata": {
  "kernelspec": {
   "display_name": "Python 3 (ipykernel)",
   "language": "python",
   "name": "python3"
  },
  "language_info": {
   "codemirror_mode": {
    "name": "ipython",
    "version": 3
   },
   "file_extension": ".py",
   "mimetype": "text/x-python",
   "name": "python",
   "nbconvert_exporter": "python",
   "pygments_lexer": "ipython3",
   "version": "3.11.5"
  }
 },
 "nbformat": 4,
 "nbformat_minor": 5
}
